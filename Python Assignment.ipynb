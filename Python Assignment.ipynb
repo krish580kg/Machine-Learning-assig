{
 "cells": [
  {
   "cell_type": "code",
   "execution_count": 10,
   "id": "23722d67-09c8-47ee-beb2-d8599b89ac34",
   "metadata": {},
   "outputs": [],
   "source": [
    "# Q1: Find second largest without sort()\n",
    "def second_largest(lst):\n",
    "    first = second = float('-inf')\n",
    "    for num in lst:\n",
    "        if num > first:\n",
    "            second = first\n",
    "            first = num\n",
    "        elif first > num > second:\n",
    "            second = num\n",
    "    return second"
   ]
  },
  {
   "cell_type": "code",
   "execution_count": 11,
   "id": "80e52e0a-f2b5-44d4-bdc7-b48e5a2f013a",
   "metadata": {},
   "outputs": [],
   "source": [
    "# Q2: Remove duplicates without set() and return sorted\n",
    "def remove_duplicates_sorted(lst):\n",
    "    unique = []\n",
    "    for item in lst:\n",
    "        if item not in unique:\n",
    "            unique.append(item)\n",
    "    return sorted(unique)\n"
   ]
  },
  {
   "cell_type": "code",
   "execution_count": 12,
   "id": "6141a93a-9f20-48c0-9268-94fd6289b5da",
   "metadata": {},
   "outputs": [],
   "source": [
    "# Q3: Sum and average\n",
    "def sum_and_avg(lst):\n",
    "    total = sum(lst)\n",
    "    avg = total / len(lst)\n",
    "    return total, avg"
   ]
  },
  {
   "cell_type": "code",
   "execution_count": 13,
   "id": "025962ba-8454-4f02-bb30-bdd49ce00654",
   "metadata": {},
   "outputs": [],
   "source": [
    "# Q4: Check prime\n",
    "def is_prime(n):\n",
    "    if n <= 1:\n",
    "        return False\n",
    "    for i in range(2, int(n**0.5)+1):\n",
    "        if n % i == 0:\n",
    "            return False\n",
    "    return True"
   ]
  },
  {
   "cell_type": "code",
   "execution_count": 14,
   "id": "287d3a9b-ef82-4235-ade4-4fbe7ed6a03a",
   "metadata": {},
   "outputs": [],
   "source": [
    "# Q5: Count vowels, consonants, digits, special characters\n",
    "def count_characters(s):\n",
    "    vowels = 'aeiouAEIOU'\n",
    "    v = c = d = sc = 0\n",
    "    for ch in s:\n",
    "        if ch.isalpha():\n",
    "            if ch in vowels:\n",
    "                v += 1\n",
    "            else:\n",
    "                c += 1\n",
    "        elif ch.isdigit():\n",
    "            d += 1\n",
    "        else:\n",
    "            sc += 1\n",
    "    return v, c, d, sc"
   ]
  },
  {
   "cell_type": "code",
   "execution_count": 15,
   "id": "11d72066-1f94-4e4e-af89-22a2b033efad",
   "metadata": {},
   "outputs": [
    {
     "name": "stdout",
     "output_type": "stream",
     "text": [
      "[2, 4, 6, 8, 10, 12, 14, 16, 18, 20, 22, 24, 26, 28, 30, 32, 34, 36, 38, 40, 42, 44, 46, 48, 50, 52, 54, 56, 58, 60, 62, 64, 66, 68, 70, 72, 74, 76, 78, 80, 82, 84, 86, 88, 90, 92, 94, 96, 98, 100]\n"
     ]
    }
   ],
   "source": [
    "# Q6: Print all even numbers from 1 to 100\n",
    "print([i for i in range(1, 101) if i % 2 == 0])"
   ]
  },
  {
   "cell_type": "code",
   "execution_count": 16,
   "id": "5d86a7a3-d9ef-4f80-ae01-b8dd42b6f2e7",
   "metadata": {},
   "outputs": [],
   "source": [
    "# Q7: Multiplication table\n",
    "n = 5  # example number\n",
    "def multiplication_table(n):\n",
    "    for i in range(1, 11):\n",
    "        print(f\"{n} x {i} = {n*i}\")"
   ]
  },
  {
   "cell_type": "code",
   "execution_count": 17,
   "id": "9eb7fa87-2c77-4840-8e9b-5c26cf1f9a84",
   "metadata": {},
   "outputs": [],
   "source": [
    "# Q8: Numbers divisible by 3 and 5\n",
    "div_by_3_5 = [i for i in range(1, 101) if i % 3 == 0 and i % 5 == 0]\n"
   ]
  },
  {
   "cell_type": "code",
   "execution_count": 18,
   "id": "b2a19978-f936-4a9b-bb36-f2ade1626160",
   "metadata": {},
   "outputs": [],
   "source": [
    "# Q9: Reverse of a number\n",
    "n = 1234\n",
    "reversed_num = int(str(n)[::-1])"
   ]
  },
  {
   "cell_type": "code",
   "execution_count": null,
   "id": "4d211592-2d7a-4acc-a167-1d7ff7755641",
   "metadata": {},
   "outputs": [],
   "source": [
    "# Q10: Frequency of characters\n",
    "from collections import defaultdict\n",
    "def char_frequency(s):\n",
    "    freq = defaultdict(int)\n",
    "    for ch in s:\n",
    "        freq[ch] += 1\n",
    "    return dict(freq)"
   ]
  },
  {
   "cell_type": "code",
   "execution_count": null,
   "id": "43da1419-3e3b-4e86-9495-1c416d9a7a1c",
   "metadata": {},
   "outputs": [],
   "source": [
    "\n",
    "# Q11: First n prime numbers\n",
    "def generate_primes(n):\n",
    "    primes = []\n",
    "    num = 2\n",
    "    while len(primes) < n:\n",
    "        if is_prime(num):\n",
    "            primes.append(num)\n",
    "        num += 1\n",
    "    return primes"
   ]
  },
  {
   "cell_type": "code",
   "execution_count": null,
   "id": "5381e2a7-a2c5-4af8-be84-8f2e236b7be3",
   "metadata": {},
   "outputs": [],
   "source": [
    "# Q12: Palindrome check\n",
    "is_palindrome = lambda n: str(n) == str(n)[::-1]"
   ]
  },
  {
   "cell_type": "code",
   "execution_count": null,
   "id": "db3756ce-3d38-4012-bcdb-7603400258e9",
   "metadata": {},
   "outputs": [],
   "source": [
    "# Q13: Count element in list\n",
    "def count_element(lst, x):\n",
    "    return lst.count(x)"
   ]
  },
  {
   "cell_type": "code",
   "execution_count": null,
   "id": "a4d03738-4603-4912-84fb-a0a3d013d71e",
   "metadata": {},
   "outputs": [],
   "source": [
    "# Q14: Squares of even numbers from 1 to 50\n",
    "even_squares = [i**2 for i in range(1, 51) if i % 2 == 0]\n"
   ]
  },
  {
   "cell_type": "code",
   "execution_count": 19,
   "id": "31fbd0e7-e6f5-4228-8d62-d8c9829928e8",
   "metadata": {},
   "outputs": [],
   "source": [
    "# Q15: Return list with unique elements in order\n",
    "def unique_preserve_order(lst):\n",
    "    result = []\n",
    "    for item in lst:\n",
    "        if item not in result:\n",
    "            result.append(item)\n",
    "    return result"
   ]
  },
  {
   "cell_type": "code",
   "execution_count": null,
   "id": "7e4dd17f-363b-417d-94a3-4f32955a661f",
   "metadata": {},
   "outputs": [],
   "source": [
    "# Q16: Check if number is even or odd\n",
    "def even_or_odd(n):\n",
    "    return \"Even\" if n % 2 == 0 else \"Odd\""
   ]
  },
  {
   "cell_type": "code",
   "execution_count": null,
   "id": "330fbd05-79cf-4d35-9cdf-d1111a5fd795",
   "metadata": {},
   "outputs": [],
   "source": [
    "# Q17: Cumulative sum of a list\n",
    "def cumulative_sum(lst):\n",
    "    total = 0\n",
    "    result = []\n",
    "    for num in lst:\n",
    "        total += num\n",
    "        result.append(total)\n",
    "    return result"
   ]
  },
  {
   "cell_type": "code",
   "execution_count": null,
   "id": "387db8fa-5037-4fea-a6ac-b237f9b8ac78",
   "metadata": {},
   "outputs": [],
   "source": [
    "# Q18: Recursive factorial\n",
    "def factorial(n):\n",
    "    if n == 0 or n == 1:\n",
    "        return 1\n",
    "    return n * factorial(n-1)"
   ]
  },
  {
   "cell_type": "code",
   "execution_count": null,
   "id": "052aae59-853e-49d6-8a84-a7fd3699bab5",
   "metadata": {},
   "outputs": [],
   "source": [
    "# Q19: Fibonacci series up to n terms\n",
    "def fibonacci(n):\n",
    "    a, b = 0, 1\n",
    "    series = []\n",
    "    for _ in range(n):\n",
    "        series.append(a)\n",
    "        a, b = b, a + b\n",
    "    return series\n"
   ]
  },
  {
   "cell_type": "code",
   "execution_count": null,
   "id": "f09da4f0-33de-4180-bef1-f644a18495f1",
   "metadata": {},
   "outputs": [],
   "source": [
    "# Q20: Check if string is a palindrome\n",
    "def is_palindrome_string(s):\n",
    "    return s == s[::-1]\n"
   ]
  },
  {
   "cell_type": "code",
   "execution_count": null,
   "id": "e303784f-994a-4f1e-9f2a-68a82816ceff",
   "metadata": {},
   "outputs": [],
   "source": [
    "# Q21: Return max and min from list\n",
    "def max_min(lst):\n",
    "    return max(lst), min(lst)\n"
   ]
  },
  {
   "cell_type": "code",
   "execution_count": null,
   "id": "72465fd1-8d88-4d1e-aebf-04264a57f080",
   "metadata": {},
   "outputs": [],
   "source": [
    "# Q22: Check pangram\n",
    "def is_pangram(s):\n",
    "    import string\n",
    "    alphabet = set(string.ascii_lowercase)\n",
    "    return alphabet.issubset(set(s.lower()))"
   ]
  },
  {
   "cell_type": "code",
   "execution_count": null,
   "id": "f474a2b8-d659-42f0-a2c5-5b1943ac5be6",
   "metadata": {},
   "outputs": [],
   "source": [
    "# Q23: Find primes in range\n",
    "def primes_in_range(start, end):\n",
    "    return [i for i in range(start, end+1) if is_prime(i)"
   ]
  },
  {
   "cell_type": "code",
   "execution_count": null,
   "id": "80d5a173-a08f-4886-bd15-31bc8cac00b8",
   "metadata": {},
   "outputs": [],
   "source": [
    "# Q24: Count uppercase and lowercase letters\n",
    "def count_case(s):\n",
    "    upper = sum(1 for ch in s if ch.isupper())\n",
    "    lower = sum(1 for ch in s if ch.islower())\n",
    "    return upper, lower"
   ]
  },
  {
   "cell_type": "code",
   "execution_count": null,
   "id": "cd8d86f4-5eaf-48b8-aecc-fc30b37dcf80",
   "metadata": {},
   "outputs": [],
   "source": [
    "# Q25: Sum of digits of number\n",
    "def sum_of_digits(n):\n",
    "    return sum(int(d) for d in str(n))\n"
   ]
  },
  {
   "cell_type": "code",
   "execution_count": null,
   "id": "ec815170-b7ba-4cf5-aeea-6de97b028f02",
   "metadata": {},
   "outputs": [],
   "source": [
    "\n",
    "# Q26: Count words in a sentence\n",
    "def count_words(sentence):\n",
    "    return len(sentence.split())"
   ]
  },
  {
   "cell_type": "code",
   "execution_count": null,
   "id": "027a47e5-be1b-4b7a-908c-5786ebb833d3",
   "metadata": {},
   "outputs": [],
   "source": [
    "# Q27: Remove punctuation from string\n",
    "def remove_punctuation(s):\n",
    "    import string\n",
    "    return ''.join(ch for ch in s if ch not in string.punctuation)\n"
   ]
  },
  {
   "cell_type": "code",
   "execution_count": null,
   "id": "28748606-6189-415a-a8a0-c4b422e95ccc",
   "metadata": {},
   "outputs": [],
   "source": [
    "# Q28: GCD of two numbers\n",
    "def gcd(a, b):\n",
    "    while b:\n",
    "        a, b = b, a % b\n",
    "    return a"
   ]
  },
  {
   "cell_type": "code",
   "execution_count": null,
   "id": "a16f0ce6-ca36-4353-8909-7ceb5b51887f",
   "metadata": {},
   "outputs": [],
   "source": [
    "# Q29: Elements that appear more than once\n",
    "def duplicates(lst):\n",
    "    from collections import Counter\n",
    "    return [item for item, count in Counter(lst).items() if count > 1]"
   ]
  },
  {
   "cell_type": "code",
   "execution_count": null,
   "id": "d755032b-50b1-47f6-9ea0-c7a521130541",
   "metadata": {},
   "outputs": [],
   "source": [
    "# Q30: Largest of three numbers\n",
    "def largest_of_three(a, b, c):\n",
    "    return max(a, b, c)"
   ]
  },
  {
   "cell_type": "code",
   "execution_count": null,
   "id": "e136d2f6-9626-43e8-9884-6840b1385e7c",
   "metadata": {},
   "outputs": [],
   "source": [
    "# Q31: Sort words in sentence alphabetically\n",
    "def sort_sentence_words(sentence):\n",
    "    return ' '.join(sorted(sentence.split()))"
   ]
  },
  {
   "cell_type": "code",
   "execution_count": null,
   "id": "6b034065-ca3a-47da-b914-0d8ceb6ec0f3",
   "metadata": {},
   "outputs": [],
   "source": [
    "# Q32: Concatenate two dictionaries\n",
    "def concat_dicts(d1, d2):\n",
    "    return {**d1, **d2}"
   ]
  },
  {
   "cell_type": "code",
   "execution_count": null,
   "id": "302fa9b7-57d1-415e-9d9b-e3a02bbe78ab",
   "metadata": {},
   "outputs": [],
   "source": [
    "# Q33: Count vowels in each word of sentence\n",
    "def vowels_in_words(sentence):\n",
    "    vowels = 'aeiouAEIOU'\n",
    "    return {word: sum(1 for ch in word if ch in vowels) for word in sentence.split()}\n"
   ]
  },
  {
   "cell_type": "code",
   "execution_count": null,
   "id": "7b57bec7-6773-4522-866f-14305e2c620b",
   "metadata": {},
   "outputs": [],
   "source": [
    "# Q34: Convert tuple to list\n",
    "def tuple_to_list(tpl):\n",
    "    return list(tpl)"
   ]
  },
  {
   "cell_type": "code",
   "execution_count": null,
   "id": "39b63e3b-2e39-4216-9179-192b39933f37",
   "metadata": {},
   "outputs": [],
   "source": [
    "# Q35: Remove all whitespace from string\n",
    "def remove_whitespace(s):\n",
    "    return ''.join(s.split())"
   ]
  },
  {
   "cell_type": "code",
   "execution_count": null,
   "id": "1784613a-fa24-4116-9b40-1a703c0e1c59",
   "metadata": {},
   "outputs": [],
   "source": [
    "# Q36: Merge two lists to dict\n",
    "def lists_to_dict(keys, values):\n",
    "    return dict(zip(keys, values))"
   ]
  },
  {
   "cell_type": "code",
   "execution_count": null,
   "id": "a5db10a1-eaff-4515-9bb9-9f1c99a5456c",
   "metadata": {},
   "outputs": [],
   "source": [
    "# Q37: Get key with max value in dict\n",
    "def key_with_max_value(d):\n",
    "    return max(d, key=d.get)"
   ]
  },
  {
   "cell_type": "code",
   "execution_count": null,
   "id": "f549d8a3-1b7b-44e2-9c67-031a5331b98a",
   "metadata": {},
   "outputs": [],
   "source": [
    "# Q38: Word frequency in string\n",
    "def word_frequency(text):\n",
    "    from collections import Counter\n",
    "    return dict(Counter(text.split()))\n"
   ]
  },
  {
   "cell_type": "code",
   "execution_count": null,
   "id": "b3d08a97-20fb-4adf-9852-e9f4528dc706",
   "metadata": {},
   "outputs": [],
   "source": [
    "# Q39: Check if key exists in dict\n",
    "def key_exists(d, key):\n",
    "    return key in d"
   ]
  },
  {
   "cell_type": "code",
   "execution_count": null,
   "id": "0007be0e-ed0a-4402-bef8-1159da976c62",
   "metadata": {},
   "outputs": [],
   "source": [
    "# Q40: Replace vowels with '*'\n",
    "def replace_vowels(s):\n",
    "    vowels = 'aeiouAEIOU'\n",
    "    return ''.join('*' if ch in vowels else ch for ch in s)"
   ]
  },
  {
   "cell_type": "code",
   "execution_count": null,
   "id": "4c230c50-5d83-4d0e-b837-69fa7b2c430e",
   "metadata": {},
   "outputs": [],
   "source": [
    "# Q41: Read contents of file\n",
    "def read_file(filename):\n",
    "    with open(filename, 'r') as file:\n",
    "        return file.read()"
   ]
  },
  {
   "cell_type": "code",
   "execution_count": null,
   "id": "3fecaf24-7673-429c-a20b-a1f543a0fa09",
   "metadata": {},
   "outputs": [],
   "source": [
    "# Q42: Count words in file\n",
    "def count_words_in_file(filename):\n",
    "    with open(filename, 'r') as file:\n",
    "        return len(file.read().split())"
   ]
  },
  {
   "cell_type": "code",
   "execution_count": null,
   "id": "c9c4f128-a1ff-4bca-9d01-fd79d42184e3",
   "metadata": {},
   "outputs": [],
   "source": [
    "# Q43: Copy contents of file\n",
    "def copy_file(src, dest):\n",
    "    with open(src, 'r') as f1, open(dest, 'w') as f2:\n",
    "        f2.write(f1.read())"
   ]
  },
  {
   "cell_type": "code",
   "execution_count": null,
   "id": "a7eab3cd-c251-4f22-99fe-26dd11b75529",
   "metadata": {},
   "outputs": [],
   "source": [
    "# Q44: Print lines with more than 50 chars\n",
    "def print_long_lines(filename):\n",
    "    with open(filename, 'r') as file:\n",
    "        for line in file:\n",
    "            if len(line.strip()) > 50:\n",
    "                print(line.strip())"
   ]
  },
  {
   "cell_type": "code",
   "execution_count": null,
   "id": "3177c438-8f43-4a12-926d-937758676b59",
   "metadata": {},
   "outputs": [],
   "source": [
    "# Q45: Write list of strings to file\n",
    "def write_list_to_file(lst, filename):\n",
    "    with open(filename, 'w') as file:\n",
    "        for item in lst:\n",
    "            file.write(item + '\\n')\n"
   ]
  },
  {
   "cell_type": "code",
   "execution_count": null,
   "id": "f3dfacd5-c6ef-477a-ae0e-c521875310a0",
   "metadata": {},
   "outputs": [],
   "source": [
    "# Q46: Handle division by zero\n",
    "def safe_division(a, b):\n",
    "    try:\n",
    "        return a / b\n",
    "    except ZeroDivisionError:\n",
    "        return \"Cannot divide by zero\""
   ]
  },
  {
   "cell_type": "code",
   "execution_count": null,
   "id": "a7623fd6-a454-4df7-9bc5-eadbd103e93e",
   "metadata": {},
   "outputs": [],
   "source": [
    "# Q47: Handle invalid user input\n",
    "def safe_input(prompt):\n",
    "    try:\n",
    "        return int(input(prompt))\n",
    "    except ValueError:\n",
    "        return \"Invalid input\""
   ]
  },
  {
   "cell_type": "code",
   "execution_count": null,
   "id": "3900d92d-ae9d-4bc4-96a1-4b88f22ac580",
   "metadata": {},
   "outputs": [],
   "source": [
    "# Q48: Handle FileNotFoundError\n",
    "def open_missing_file(filename):\n",
    "    try:\n",
    "        with open(filename, 'r') as file:\n",
    "            return file.read()\n",
    "    except FileNotFoundError:\n",
    "        return \"File not found\"\n"
   ]
  },
  {
   "cell_type": "code",
   "execution_count": null,
   "id": "e601c482-1e1d-4476-bd3b-958383126114",
   "metadata": {},
   "outputs": [],
   "source": [
    "# Q49: Handle invalid index\n",
    "def access_index(lst, index):\n",
    "    try:\n",
    "        return lst[index]\n",
    "    except IndexError:\n",
    "        return \"Index out of range\""
   ]
  },
  {
   "cell_type": "code",
   "execution_count": null,
   "id": "5f132f45-ec62-4974-81cb-e3512a4188d7",
   "metadata": {},
   "outputs": [],
   "source": [
    "\n",
    "# Q50: Try-except-finally demonstrationdef try_except_finally():\n",
    "    try:\n",
    "        x = 1 / 0\n",
    "    except ZeroDivisionError:\n",
    "        print(\"Caught division by zero\")\n",
    "    finally:\n",
    "        print(\"This block always executes\")\n"
   ]
  }
 ],
 "metadata": {
  "kernelspec": {
   "display_name": "Python [conda env:base] *",
   "language": "python",
   "name": "conda-base-py"
  },
  "language_info": {
   "codemirror_mode": {
    "name": "ipython",
    "version": 3
   },
   "file_extension": ".py",
   "mimetype": "text/x-python",
   "name": "python",
   "nbconvert_exporter": "python",
   "pygments_lexer": "ipython3",
   "version": "3.12.7"
  }
 },
 "nbformat": 4,
 "nbformat_minor": 5
}
